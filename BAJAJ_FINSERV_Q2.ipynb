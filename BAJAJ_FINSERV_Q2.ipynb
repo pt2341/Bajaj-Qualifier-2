{
  "nbformat": 4,
  "nbformat_minor": 0,
  "metadata": {
    "colab": {
      "provenance": []
    },
    "kernelspec": {
      "name": "python3",
      "display_name": "Python 3"
    },
    "language_info": {
      "name": "python"
    }
  },
  "cells": [
    {
      "cell_type": "code",
      "source": [
        "!pip install fastapi uvicorn pyngrok python-multipart pillow pytesseract\n",
        "!apt-get install -y tesseract-ocr"
      ],
      "metadata": {
        "colab": {
          "base_uri": "https://localhost:8080/"
        },
        "id": "dqeMrPqaCuGM",
        "outputId": "643f5daf-69c1-4f48-81cf-74e984e62054"
      },
      "execution_count": 2,
      "outputs": [
        {
          "output_type": "stream",
          "name": "stdout",
          "text": [
            "Requirement already satisfied: fastapi in /usr/local/lib/python3.11/dist-packages (0.115.12)\n",
            "Requirement already satisfied: uvicorn in /usr/local/lib/python3.11/dist-packages (0.34.2)\n",
            "Collecting pyngrok\n",
            "  Downloading pyngrok-7.2.5-py3-none-any.whl.metadata (8.9 kB)\n",
            "Requirement already satisfied: python-multipart in /usr/local/lib/python3.11/dist-packages (0.0.20)\n",
            "Requirement already satisfied: pillow in /usr/local/lib/python3.11/dist-packages (11.2.1)\n",
            "Requirement already satisfied: pytesseract in /usr/local/lib/python3.11/dist-packages (0.3.13)\n",
            "Requirement already satisfied: starlette<0.47.0,>=0.40.0 in /usr/local/lib/python3.11/dist-packages (from fastapi) (0.46.2)\n",
            "Requirement already satisfied: pydantic!=1.8,!=1.8.1,!=2.0.0,!=2.0.1,!=2.1.0,<3.0.0,>=1.7.4 in /usr/local/lib/python3.11/dist-packages (from fastapi) (2.11.3)\n",
            "Requirement already satisfied: typing-extensions>=4.8.0 in /usr/local/lib/python3.11/dist-packages (from fastapi) (4.13.2)\n",
            "Requirement already satisfied: click>=7.0 in /usr/local/lib/python3.11/dist-packages (from uvicorn) (8.1.8)\n",
            "Requirement already satisfied: h11>=0.8 in /usr/local/lib/python3.11/dist-packages (from uvicorn) (0.16.0)\n",
            "Requirement already satisfied: PyYAML>=5.1 in /usr/local/lib/python3.11/dist-packages (from pyngrok) (6.0.2)\n",
            "Requirement already satisfied: packaging>=21.3 in /usr/local/lib/python3.11/dist-packages (from pytesseract) (24.2)\n",
            "Requirement already satisfied: annotated-types>=0.6.0 in /usr/local/lib/python3.11/dist-packages (from pydantic!=1.8,!=1.8.1,!=2.0.0,!=2.0.1,!=2.1.0,<3.0.0,>=1.7.4->fastapi) (0.7.0)\n",
            "Requirement already satisfied: pydantic-core==2.33.1 in /usr/local/lib/python3.11/dist-packages (from pydantic!=1.8,!=1.8.1,!=2.0.0,!=2.0.1,!=2.1.0,<3.0.0,>=1.7.4->fastapi) (2.33.1)\n",
            "Requirement already satisfied: typing-inspection>=0.4.0 in /usr/local/lib/python3.11/dist-packages (from pydantic!=1.8,!=1.8.1,!=2.0.0,!=2.0.1,!=2.1.0,<3.0.0,>=1.7.4->fastapi) (0.4.0)\n",
            "Requirement already satisfied: anyio<5,>=3.6.2 in /usr/local/lib/python3.11/dist-packages (from starlette<0.47.0,>=0.40.0->fastapi) (4.9.0)\n",
            "Requirement already satisfied: idna>=2.8 in /usr/local/lib/python3.11/dist-packages (from anyio<5,>=3.6.2->starlette<0.47.0,>=0.40.0->fastapi) (3.10)\n",
            "Requirement already satisfied: sniffio>=1.1 in /usr/local/lib/python3.11/dist-packages (from anyio<5,>=3.6.2->starlette<0.47.0,>=0.40.0->fastapi) (1.3.1)\n",
            "Downloading pyngrok-7.2.5-py3-none-any.whl (23 kB)\n",
            "Installing collected packages: pyngrok\n",
            "Successfully installed pyngrok-7.2.5\n",
            "Reading package lists... Done\n",
            "Building dependency tree... Done\n",
            "Reading state information... Done\n",
            "tesseract-ocr is already the newest version (4.1.1-2.1build1).\n",
            "0 upgraded, 0 newly installed, 0 to remove and 34 not upgraded.\n"
          ]
        }
      ]
    },
    {
      "cell_type": "code",
      "source": [
        "from fastapi import FastAPI, File, UploadFile\n",
        "from fastapi.responses import JSONResponse\n",
        "from PIL import Image, ImageEnhance\n",
        "import pytesseract\n",
        "import io\n",
        "import re\n",
        "\n",
        "app = FastAPI()\n",
        "\n",
        "# Utility: Check if test_value is out of reference range\n",
        "def is_out_of_range(value_str, ref_range_str):\n",
        "    try:\n",
        "        value = float(value_str)\n",
        "        if \"-\" in ref_range_str:\n",
        "            low, high = map(float, ref_range_str.split(\"-\"))\n",
        "            return value < low or value > high\n",
        "        elif \"<\" in ref_range_str:\n",
        "            limit = float(ref_range_str.replace(\"<\", \"\"))\n",
        "            return value > limit\n",
        "        elif \">\" in ref_range_str:\n",
        "            limit = float(ref_range_str.replace(\">\", \"\"))\n",
        "            return value < limit\n",
        "    except ValueError:\n",
        "        return None\n",
        "\n",
        "\n",
        "@app.post(\"/get-lab-tests\")\n",
        "async def get_lab_tests(file: UploadFile = File(...)):\n",
        "    # ... (image loading and preprocessing)\n",
        "\n",
        "    # Extract text using OCR\n",
        "    raw_text = pytesseract.image_to_string(image, config='--psm 6')\n",
        "\n",
        "    # Print raw OCR output (NEW LINE)\n",
        "    print(\"Raw OCR Output:\", raw_text)\n",
        "\n",
        "    # Try to extract test results: name, value, range\n",
        "    # Updated regex pattern (NEW LINE)\n",
        "    test_pattern = r\"([A-Za-z\\s\\(\\)]+)\\s*([\\d\\.]+(?:\\s*[a-zA-Z]+)?)\\s*(?:([\\d\\.]+\\s*-\\s*[\\d\\.]+)|([\\d\\.]+\\s*[<>]\\s*[\\d\\.]+))?\"\n",
        "\n",
        "    results = []\n",
        "    for match in re.findall(test_pattern, raw_text):\n",
        "        name, value, ref_range1, ref_range2 = match\n",
        "        ref_range = ref_range1 or ref_range2\n",
        "        out_of_range = is_out_of_range(value, ref_range) if ref_range else None  # Handle missing ref_range\n",
        "        unit = \"g/dL\" if \"HB\" in name else \"%\"  # crude heuristic\n",
        "        results.append({\n",
        "            \"test_name\": name.strip(),\n",
        "            \"test_value\": value,\n",
        "            \"bio_reference_range\": ref_range if ref_range else \"N/A\",  # Handle missing ref_range\n",
        "            \"test_unit\": unit,\n",
        "            \"lab_test_out_of_range\": out_of_range\n",
        "        })\n",
        "\n",
        "    return JSONResponse(content={\n",
        "        \"is_success\": True,\n",
        "        \"data\": results\n",
        "    })"
      ],
      "metadata": {
        "id": "eNaQB81PM4JV"
      },
      "execution_count": 74,
      "outputs": []
    },
    {
      "cell_type": "code",
      "source": [
        "!ngrok config add-authtoken 2wOGSRH75GVXyuTzutsJVjEflEg_31g3DMcpTbkr6YHTKGnYj"
      ],
      "metadata": {
        "colab": {
          "base_uri": "https://localhost:8080/"
        },
        "id": "OAa-Ft_0D9Ha",
        "outputId": "1dfe8d26-1ff1-4930-9a30-f3b8997ffa0e"
      },
      "execution_count": 75,
      "outputs": [
        {
          "output_type": "stream",
          "name": "stdout",
          "text": [
            "Authtoken saved to configuration file: /root/.config/ngrok/ngrok.yml\n"
          ]
        }
      ]
    },
    {
      "cell_type": "code",
      "source": [
        "# Kill all existing ngrok tunnels\n",
        "for tunnel in ngrok.get_tunnels():\n",
        "    ngrok.disconnect(tunnel.public_url)"
      ],
      "metadata": {
        "colab": {
          "base_uri": "https://localhost:8080/"
        },
        "id": "li70BTn4GUUV",
        "outputId": "227c9a3f-49d6-4d44-95ac-7defc36c5735"
      },
      "execution_count": 83,
      "outputs": [
        {
          "output_type": "stream",
          "name": "stderr",
          "text": [
            "WARNING:pyngrok.process.ngrok:t=2025-04-29T06:56:00+0000 lvl=warn msg=\"Stopping forwarder\" name=http-8000-88103da1-3566-412a-8962-4d02c40dfa18 acceptErr=\"failed to accept connection: Listener closed\"\n",
            "WARNING:pyngrok.process.ngrok:t=2025-04-29T06:56:01+0000 lvl=warn msg=\"Stopping forwarder\" name=http-8000-a4cc37a1-4053-480c-adea-dd12b20951b6 acceptErr=\"failed to accept connection: Listener closed\"\n"
          ]
        }
      ]
    },
    {
      "cell_type": "code",
      "source": [
        "from pyngrok import ngrok\n",
        "import uvicorn\n",
        "import threading\n",
        "\n",
        "# Open a tunnel to the FastAPI app\n",
        "public_url = ngrok.connect(8000)\n",
        "print(\"FastAPI app is live at:\", public_url)\n",
        "\n",
        "def run():\n",
        "    uvicorn.run(app, host=\"0.0.0.0\", port=8000)"
      ],
      "metadata": {
        "colab": {
          "base_uri": "https://localhost:8080/"
        },
        "id": "OAMditbQDOD9",
        "outputId": "ba9c505f-2f79-40d2-fda9-1969556a89e8"
      },
      "execution_count": 84,
      "outputs": [
        {
          "output_type": "stream",
          "name": "stdout",
          "text": [
            "FastAPI app is live at: NgrokTunnel: \"https://83c0-104-198-14-253.ngrok-free.app\" -> \"http://localhost:8000\"\n"
          ]
        }
      ]
    },
    {
      "cell_type": "code",
      "source": [
        "import requests\n",
        "\n",
        "# Replace with your ngrok URL and correct endpoint\n",
        "url = \"https://83c0-104-198-14-253.ngrok-free.app/get-lab-tests\"\n",
        "\n",
        "# Open the image file to send\n",
        "files = {'file': open(\"/content/AHD-0425-PA-0008061_E-mahendrasinghdischargecard_250427_1114@E.pdf_page_13.png\", \"rb\")}\n",
        "\n",
        "# Send the POST request\n",
        "response = requests.post(url, files=files)\n",
        "\n",
        "# Print the response from the FastAPI app\n",
        "print(response.json())\n"
      ],
      "metadata": {
        "colab": {
          "base_uri": "https://localhost:8080/"
        },
        "id": "k5aZH4MjK0o2",
        "outputId": "0885ef8f-410b-447d-e079-e73a84c23232"
      },
      "execution_count": 85,
      "outputs": [
        {
          "output_type": "stream",
          "name": "stdout",
          "text": [
            "INFO:     104.198.14.253:0 - \"POST /get-lab-tests HTTP/1.1\" 200 OK\n",
            "{'is_success': True, 'data': []}\n"
          ]
        }
      ]
    }
  ]
}